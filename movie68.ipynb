{
  "nbformat": 4,
  "nbformat_minor": 0,
  "metadata": {
    "colab": {
      "provenance": [],
      "authorship_tag": "ABX9TyP7ITz1aQxGZfmRs/Kn9qnu",
      "include_colab_link": true
    },
    "kernelspec": {
      "name": "python3",
      "display_name": "Python 3"
    },
    "language_info": {
      "name": "python"
    }
  },
  "cells": [
    {
      "cell_type": "markdown",
      "metadata": {
        "id": "view-in-github",
        "colab_type": "text"
      },
      "source": [
        "<a href=\"https://colab.research.google.com/github/zotyo42/gritsfhaf/blob/main/movie68.ipynb\" target=\"_parent\"><img src=\"https://colab.research.google.com/assets/colab-badge.svg\" alt=\"Open In Colab\"/></a>"
      ]
    },
    {
      "cell_type": "markdown",
      "source": [
        "# Tvorba hry\n",
        "Movie with two options in the end.After it makes the next part.Only one is correct"
      ],
      "metadata": {
        "id": "2SsnlIy-g081"
      }
    },
    {
      "cell_type": "code",
      "source": [
        "# prompt: movie with two options in the end.After it makes the next part.Only one is correct.make it have 3 choice oppportunities\n",
        "\n",
        "def play_movie():\n",
        "    print(\"You are standing at a crossroads.\")\n",
        "    print(\"Option 1: Go left towards the dark forest.\")\n",
        "    print(\"Option 2: Go right towards the sunlit meadow.\")\n",
        "    print(\"Option 3: Go straight ahead on the dusty road.\")\n",
        "\n",
        "    choice1 = input(\"Choose your path (1, 2, or 3): \")\n",
        "\n",
        "    if choice1 == '1':\n",
        "        print(\"\\nYou enter the dark forest. It's spooky and quiet.\")\n",
        "        print(\"Suddenly, you see a strange glowing object.\")\n",
        "        print(\"Option A: Approach the object.\")\n",
        "        print(\"Option B: Ignore the object and keep walking.\")\n",
        "        print(\"Option C: Turn back.\")\n",
        "\n",
        "        choice2 = input(\"What do you do? (A, B, or C): \").upper()\n",
        "\n",
        "        if choice2 == 'A':\n",
        "            print(\"\\nThe object reveals itself as a helpful fairy!\")\n",
        "            print(\"The fairy grants you a wish.\")\n",
        "            print(\"You win!\") # This is a correct path\n",
        "        elif choice2 == 'B':\n",
        "            print(\"\\nYou ignore the object and get lost in the forest.\")\n",
        "            print(\"A pack of wolves finds you.\")\n",
        "            print(\"Game Over.\") # Incorrect path\n",
        "        elif choice2 == 'C':\n",
        "            print(\"\\nYou turn back and safely return to the crossroads.\")\n",
        "            play_movie() # Loop back to the first choice\n",
        "        else:\n",
        "            print(\"Invalid choice. The forest consumes you.\")\n",
        "            print(\"Game Over.\") # Incorrect path\n",
        "\n",
        "    elif choice1 == '2':\n",
        "        print(\"\\nYou enter the sunlit meadow. It's beautiful and peaceful.\")\n",
        "        print(\"You see a picnic basket under a tree.\")\n",
        "        print(\"Option A: Open the basket.\")\n",
        "        print(\"Option B: Leave the basket alone.\")\n",
        "        print(\"Option C: Take a nap under the tree.\")\n",
        "\n",
        "        choice2 = input(\"What do you do? (A, B, or C): \").upper()\n",
        "\n",
        "        if choice2 == 'A':\n",
        "            print(\"\\nThe basket is full of delicious food.\")\n",
        "            print(\"As you eat, you feel your energy restored.\")\n",
        "            print(\"You continue your journey with renewed strength.\")\n",
        "            print(\"You found a useful item!\") # Another correct path (assuming this leads to success later)\n",
        "        elif choice2 == 'B':\n",
        "            print(\"\\nYou leave the basket alone and keep walking.\")\n",
        "            print(\"You get hungry and weak.\")\n",
        "            print(\"You collapse from exhaustion.\")\n",
        "            print(\"Game Over.\") # Incorrect path\n",
        "        elif choice2 == 'C':\n",
        "            print(\"\\nYou take a nap. When you wake up, your belongings are gone.\")\n",
        "            print(\"You are robbed.\")\n",
        "            print(\"Game Over.\") # Incorrect path\n",
        "        else:\n",
        "            print(\"Invalid choice. A wild beast attacks you.\")\n",
        "            print(\"Game Over.\") # Incorrect path\n",
        "\n",
        "    elif choice1 == '3':\n",
        "        print(\"\\nYou walk down the dusty road.\")\n",
        "        print(\"After a while, you come to a bridge over a river.\")\n",
        "        print(\"Option A: Cross the bridge.\")\n",
        "        print(\"Option B: Try to swim across the river.\")\n",
        "        print(\"Option C: Follow the riverbank.\")\n",
        "\n",
        "        choice2 = input(\"What do you do? (A, B, or C): \").upper()\n",
        "\n",
        "        if choice2 == 'A':\n",
        "            print(\"\\nYou cross the bridge safely.\")\n",
        "            print(\"On the other side, you find a hidden treasure chest!\")\n",
        "            print(\"You win!\") # Another correct path\n",
        "        elif choice2 == 'B':\n",
        "            print(\"\\nYou try to swim, but the current is too strong.\")\n",
        "            print(\"You are swept away.\")\n",
        "            print(\"Game Over.\") # Incorrect path\n",
        "        elif choice2 == 'C':\n",
        "            print(\"\\nYou follow the riverbank but encounter a dangerous waterfall.\")\n",
        "            print(\"You fall down the waterfall.\")\n",
        "            print(\"Game Over.\") # Incorrect path\n",
        "        else:\n",
        "            print(\"Invalid choice. The road disappears.\")\n",
        "            print(\"Game Over.\") # Incorrect path\n",
        "\n",
        "    else:\n",
        "        print(\"Invalid choice. You stand still and the world passes you by.\")\n",
        "        print(\"Game Over.\") # Incorrect path\n",
        "\n",
        "# Start the game\n",
        "play_movie()\n"
      ],
      "metadata": {
        "colab": {
          "base_uri": "https://localhost:8080/"
        },
        "id": "QUMPf_PqhCXd",
        "outputId": "1459018d-92f6-4938-9ec3-e19742a0451e"
      },
      "execution_count": 1,
      "outputs": [
        {
          "output_type": "stream",
          "name": "stdout",
          "text": [
            "You are an adventurer exploring a dark forest.\n",
            "You come across a fork in the path.\n",
            "Do you go left or right?\n",
            "Enter 'left' or 'right': right\n",
            "You chose the right path.\n",
            "Suddenly, you are attacked by a fearsome beast!\n",
            "You did not survive.\n"
          ]
        }
      ]
    }
  ]
}